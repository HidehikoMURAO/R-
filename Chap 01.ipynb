{
 "cells": [
  {
   "cell_type": "markdown",
   "id": "f858319e-b602-497b-a1f8-984e913cb8da",
   "metadata": {},
   "source": [
    "### 1.4.2 基本的な操作の概要 "
   ]
  },
  {
   "cell_type": "code",
   "execution_count": 1,
   "id": "c63032a0-7f32-4280-8159-d52b6a36989c",
   "metadata": {},
   "outputs": [
    {
     "data": {
      "text/html": [
       "8"
      ],
      "text/latex": [
       "8"
      ],
      "text/markdown": [
       "8"
      ],
      "text/plain": [
       "[1] 8"
      ]
     },
     "metadata": {},
     "output_type": "display_data"
    }
   ],
   "source": [
    "3 + 5"
   ]
  },
  {
   "cell_type": "code",
   "execution_count": 2,
   "id": "fab22dd4-a270-475b-ad20-6cbb992e8635",
   "metadata": {},
   "outputs": [
    {
     "data": {
      "text/html": [
       "7"
      ],
      "text/latex": [
       "7"
      ],
      "text/markdown": [
       "7"
      ],
      "text/plain": [
       "[1] 7"
      ]
     },
     "metadata": {},
     "output_type": "display_data"
    }
   ],
   "source": [
    "10 - 3"
   ]
  },
  {
   "cell_type": "code",
   "execution_count": 3,
   "id": "c01bf8ef-ae3c-4173-bbe7-4e2cd30f367c",
   "metadata": {},
   "outputs": [
    {
     "data": {
      "text/html": [
       "6"
      ],
      "text/latex": [
       "6"
      ],
      "text/markdown": [
       "6"
      ],
      "text/plain": [
       "[1] 6"
      ]
     },
     "metadata": {},
     "output_type": "display_data"
    }
   ],
   "source": [
    "2 * 3 # 掛け算をするときは *"
   ]
  },
  {
   "cell_type": "code",
   "execution_count": 4,
   "id": "a0b635ad-0fc3-4638-81c4-cec5aa448770",
   "metadata": {},
   "outputs": [
    {
     "data": {
      "text/html": [
       "5"
      ],
      "text/latex": [
       "5"
      ],
      "text/markdown": [
       "5"
      ],
      "text/plain": [
       "[1] 5"
      ]
     },
     "metadata": {},
     "output_type": "display_data"
    }
   ],
   "source": [
    "20 / 4 # 割り算をするときは /"
   ]
  },
  {
   "cell_type": "code",
   "execution_count": 5,
   "id": "f60b91e8-1e7c-4f58-b1a4-919629515f91",
   "metadata": {},
   "outputs": [
    {
     "data": {
      "text/html": [
       "5"
      ],
      "text/latex": [
       "5"
      ],
      "text/markdown": [
       "5"
      ],
      "text/plain": [
       "[1] 5"
      ]
     },
     "metadata": {},
     "output_type": "display_data"
    }
   ],
   "source": [
    "20 / 4 # 16の正の平方根を求める"
   ]
  },
  {
   "cell_type": "code",
   "execution_count": 6,
   "id": "1a9e8ef3-7cf5-4f36-940c-28d87605e2bc",
   "metadata": {},
   "outputs": [
    {
     "data": {
      "text/html": [
       "0.301029995663981"
      ],
      "text/latex": [
       "0.301029995663981"
      ],
      "text/markdown": [
       "0.301029995663981"
      ],
      "text/plain": [
       "[1] 0.30103"
      ]
     },
     "metadata": {},
     "output_type": "display_data"
    }
   ],
   "source": [
    "log(2, base = 10)"
   ]
  },
  {
   "cell_type": "code",
   "execution_count": 7,
   "id": "61c7f73f-423c-423c-8187-9260bebe5ff9",
   "metadata": {},
   "outputs": [
    {
     "data": {
      "text/html": [
       "<span style=white-space:pre-wrap>'Fri Mar  1 22:09:14 2024'</span>"
      ],
      "text/latex": [
       "'Fri Mar  1 22:09:14 2024'"
      ],
      "text/markdown": [
       "<span style=white-space:pre-wrap>'Fri Mar  1 22:09:14 2024'</span>"
      ],
      "text/plain": [
       "[1] \"Fri Mar  1 22:09:14 2024\""
      ]
     },
     "metadata": {},
     "output_type": "display_data"
    }
   ],
   "source": [
    "date()"
   ]
  },
  {
   "cell_type": "code",
   "execution_count": 8,
   "id": "1dcb72ae-50a4-4b36-878e-4135b5a8f5bb",
   "metadata": {},
   "outputs": [
    {
     "data": {
      "text/html": [
       "4"
      ],
      "text/latex": [
       "4"
      ],
      "text/markdown": [
       "4"
      ],
      "text/plain": [
       "[1] 4"
      ]
     },
     "metadata": {},
     "output_type": "display_data"
    }
   ],
   "source": [
    "2 ^ 2 # 2の二乗を計算する"
   ]
  },
  {
   "cell_type": "code",
   "execution_count": null,
   "id": "48fe76ae-d876-42c6-8076-37dbf0841e4d",
   "metadata": {},
   "outputs": [],
   "source": []
  }
 ],
 "metadata": {
  "kernelspec": {
   "display_name": "R",
   "language": "R",
   "name": "ir"
  },
  "language_info": {
   "codemirror_mode": "r",
   "file_extension": ".r",
   "mimetype": "text/x-r-source",
   "name": "R",
   "pygments_lexer": "r",
   "version": "4.3.2"
  }
 },
 "nbformat": 4,
 "nbformat_minor": 5
}
