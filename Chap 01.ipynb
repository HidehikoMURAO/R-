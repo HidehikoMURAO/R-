{
 "cells": [
  {
   "cell_type": "markdown",
   "id": "a0a9d230-d9a5-497f-9b27-70078ad470ba",
   "metadata": {},
   "source": [
    "# 1.4 Rをさわってみよう"
   ]
  },
  {
   "cell_type": "markdown",
   "id": "f858319e-b602-497b-a1f8-984e913cb8da",
   "metadata": {},
   "source": [
    "### 1.4.2 基本的な操作の概要 "
   ]
  },
  {
   "cell_type": "code",
   "execution_count": 1,
   "id": "c63032a0-7f32-4280-8159-d52b6a36989c",
   "metadata": {},
   "outputs": [
    {
     "data": {
      "text/html": [
       "8"
      ],
      "text/latex": [
       "8"
      ],
      "text/markdown": [
       "8"
      ],
      "text/plain": [
       "[1] 8"
      ]
     },
     "metadata": {},
     "output_type": "display_data"
    }
   ],
   "source": [
    "3 + 5"
   ]
  },
  {
   "cell_type": "code",
   "execution_count": 2,
   "id": "fab22dd4-a270-475b-ad20-6cbb992e8635",
   "metadata": {},
   "outputs": [
    {
     "data": {
      "text/html": [
       "7"
      ],
      "text/latex": [
       "7"
      ],
      "text/markdown": [
       "7"
      ],
      "text/plain": [
       "[1] 7"
      ]
     },
     "metadata": {},
     "output_type": "display_data"
    }
   ],
   "source": [
    "10 - 3"
   ]
  },
  {
   "cell_type": "code",
   "execution_count": 3,
   "id": "c01bf8ef-ae3c-4173-bbe7-4e2cd30f367c",
   "metadata": {},
   "outputs": [
    {
     "data": {
      "text/html": [
       "6"
      ],
      "text/latex": [
       "6"
      ],
      "text/markdown": [
       "6"
      ],
      "text/plain": [
       "[1] 6"
      ]
     },
     "metadata": {},
     "output_type": "display_data"
    }
   ],
   "source": [
    "2 * 3 # 掛け算をするときは *"
   ]
  },
  {
   "cell_type": "code",
   "execution_count": 4,
   "id": "a0b635ad-0fc3-4638-81c4-cec5aa448770",
   "metadata": {},
   "outputs": [
    {
     "data": {
      "text/html": [
       "5"
      ],
      "text/latex": [
       "5"
      ],
      "text/markdown": [
       "5"
      ],
      "text/plain": [
       "[1] 5"
      ]
     },
     "metadata": {},
     "output_type": "display_data"
    }
   ],
   "source": [
    "20 / 4 # 割り算をするときは /"
   ]
  },
  {
   "cell_type": "code",
   "execution_count": 5,
   "id": "f60b91e8-1e7c-4f58-b1a4-919629515f91",
   "metadata": {},
   "outputs": [
    {
     "data": {
      "text/html": [
       "5"
      ],
      "text/latex": [
       "5"
      ],
      "text/markdown": [
       "5"
      ],
      "text/plain": [
       "[1] 5"
      ]
     },
     "metadata": {},
     "output_type": "display_data"
    }
   ],
   "source": [
    "20 / 4 # 16の正の平方根を求める"
   ]
  },
  {
   "cell_type": "code",
   "execution_count": 6,
   "id": "1a9e8ef3-7cf5-4f36-940c-28d87605e2bc",
   "metadata": {},
   "outputs": [
    {
     "data": {
      "text/html": [
       "0.301029995663981"
      ],
      "text/latex": [
       "0.301029995663981"
      ],
      "text/markdown": [
       "0.301029995663981"
      ],
      "text/plain": [
       "[1] 0.30103"
      ]
     },
     "metadata": {},
     "output_type": "display_data"
    }
   ],
   "source": [
    "log(2, base = 10)"
   ]
  },
  {
   "cell_type": "code",
   "execution_count": 7,
   "id": "61c7f73f-423c-423c-8187-9260bebe5ff9",
   "metadata": {},
   "outputs": [
    {
     "data": {
      "text/html": [
       "<span style=white-space:pre-wrap>'Sat Mar  2 23:13:41 2024'</span>"
      ],
      "text/latex": [
       "'Sat Mar  2 23:13:41 2024'"
      ],
      "text/markdown": [
       "<span style=white-space:pre-wrap>'Sat Mar  2 23:13:41 2024'</span>"
      ],
      "text/plain": [
       "[1] \"Sat Mar  2 23:13:41 2024\""
      ]
     },
     "metadata": {},
     "output_type": "display_data"
    }
   ],
   "source": [
    "date()"
   ]
  },
  {
   "cell_type": "code",
   "execution_count": 8,
   "id": "1dcb72ae-50a4-4b36-878e-4135b5a8f5bb",
   "metadata": {},
   "outputs": [
    {
     "data": {
      "text/html": [
       "4"
      ],
      "text/latex": [
       "4"
      ],
      "text/markdown": [
       "4"
      ],
      "text/plain": [
       "[1] 4"
      ]
     },
     "metadata": {},
     "output_type": "display_data"
    }
   ],
   "source": [
    "2 ^ 2 # 2の二乗を計算する"
   ]
  },
  {
   "cell_type": "markdown",
   "id": "c490870f-768e-4c06-bb15-4e74dfb84cc3",
   "metadata": {},
   "source": [
    "# 1.5 Rをもっとさわってみよう"
   ]
  },
  {
   "cell_type": "markdown",
   "id": "12427dd0-1cd2-4c69-9f16-4f3531da414b",
   "metadata": {},
   "source": [
    "## 1.5.1 Rを使った設計"
   ]
  },
  {
   "cell_type": "code",
   "execution_count": 9,
   "id": "a81685e2-9b54-4159-89ab-0bb66dac1f84",
   "metadata": {},
   "outputs": [
    {
     "data": {
      "text/plain": [
       "   Min. 1st Qu.  Median    Mean 3rd Qu.    Max. \n",
       "  173.0   174.0   179.0   179.4   182.0   192.0 "
      ]
     },
     "metadata": {},
     "output_type": "display_data"
    }
   ],
   "source": [
    "summary(c(173, 178, 180, 183, 182, 174, 179, 174, 192))"
   ]
  },
  {
   "cell_type": "markdown",
   "id": "7df7bcad-fece-4f04-a6d4-088d1da51ca6",
   "metadata": {},
   "source": [
    "# 1.6 Rの使い方のコツ"
   ]
  },
  {
   "cell_type": "markdown",
   "id": "97dd13c0-ad5d-4336-bcef-40bbbde07974",
   "metadata": {},
   "source": [
    "## 1.6.1 複数の値をまとめて扱う"
   ]
  },
  {
   "cell_type": "code",
   "execution_count": 10,
   "id": "d9cac01e-8960-47e2-8220-ede54c835996",
   "metadata": {},
   "outputs": [],
   "source": [
    "身長 <- c(173, 178, 180, 183, 182, 174, 179, 179, 174, 192)"
   ]
  },
  {
   "cell_type": "code",
   "execution_count": 11,
   "id": "dd9e3c69-7800-45d7-8737-be9fc5fbf254",
   "metadata": {},
   "outputs": [
    {
     "data": {
      "text/html": [
       "<style>\n",
       ".list-inline {list-style: none; margin:0; padding: 0}\n",
       ".list-inline>li {display: inline-block}\n",
       ".list-inline>li:not(:last-child)::after {content: \"\\00b7\"; padding: 0 .5ex}\n",
       "</style>\n",
       "<ol class=list-inline><li>173</li><li>178</li><li>180</li><li>183</li><li>182</li><li>174</li><li>179</li><li>179</li><li>174</li><li>192</li></ol>\n"
      ],
      "text/latex": [
       "\\begin{enumerate*}\n",
       "\\item 173\n",
       "\\item 178\n",
       "\\item 180\n",
       "\\item 183\n",
       "\\item 182\n",
       "\\item 174\n",
       "\\item 179\n",
       "\\item 179\n",
       "\\item 174\n",
       "\\item 192\n",
       "\\end{enumerate*}\n"
      ],
      "text/markdown": [
       "1. 173\n",
       "2. 178\n",
       "3. 180\n",
       "4. 183\n",
       "5. 182\n",
       "6. 174\n",
       "7. 179\n",
       "8. 179\n",
       "9. 174\n",
       "10. 192\n",
       "\n",
       "\n"
      ],
      "text/plain": [
       " [1] 173 178 180 183 182 174 179 179 174 192"
      ]
     },
     "metadata": {},
     "output_type": "display_data"
    }
   ],
   "source": [
    "身長"
   ]
  },
  {
   "cell_type": "code",
   "execution_count": 12,
   "id": "3221fcbf-0b43-4884-ae95-f47efe890e87",
   "metadata": {},
   "outputs": [],
   "source": [
    "ホークス <- matrix(c(173, 178, 180, 183, 182, 174, 179, 179, 174, 192, \n",
    "                 17000, 14000, 9000, 50000, 30000, 12000, 900, 2100, 1000, 25000), 10, 2)"
   ]
  },
  {
   "cell_type": "code",
   "execution_count": 13,
   "id": "d2ff0912-68d7-40e7-b484-5645717753a2",
   "metadata": {},
   "outputs": [
    {
     "data": {
      "text/html": [
       "<table class=\"dataframe\">\n",
       "<caption>A matrix: 10 × 2 of type dbl</caption>\n",
       "<tbody>\n",
       "\t<tr><td>173</td><td>17000</td></tr>\n",
       "\t<tr><td>178</td><td>14000</td></tr>\n",
       "\t<tr><td>180</td><td> 9000</td></tr>\n",
       "\t<tr><td>183</td><td>50000</td></tr>\n",
       "\t<tr><td>182</td><td>30000</td></tr>\n",
       "\t<tr><td>174</td><td>12000</td></tr>\n",
       "\t<tr><td>179</td><td>  900</td></tr>\n",
       "\t<tr><td>179</td><td> 2100</td></tr>\n",
       "\t<tr><td>174</td><td> 1000</td></tr>\n",
       "\t<tr><td>192</td><td>25000</td></tr>\n",
       "</tbody>\n",
       "</table>\n"
      ],
      "text/latex": [
       "A matrix: 10 × 2 of type dbl\n",
       "\\begin{tabular}{ll}\n",
       "\t 173 & 17000\\\\\n",
       "\t 178 & 14000\\\\\n",
       "\t 180 &  9000\\\\\n",
       "\t 183 & 50000\\\\\n",
       "\t 182 & 30000\\\\\n",
       "\t 174 & 12000\\\\\n",
       "\t 179 &   900\\\\\n",
       "\t 179 &  2100\\\\\n",
       "\t 174 &  1000\\\\\n",
       "\t 192 & 25000\\\\\n",
       "\\end{tabular}\n"
      ],
      "text/markdown": [
       "\n",
       "A matrix: 10 × 2 of type dbl\n",
       "\n",
       "| 173 | 17000 |\n",
       "| 178 | 14000 |\n",
       "| 180 |  9000 |\n",
       "| 183 | 50000 |\n",
       "| 182 | 30000 |\n",
       "| 174 | 12000 |\n",
       "| 179 |   900 |\n",
       "| 179 |  2100 |\n",
       "| 174 |  1000 |\n",
       "| 192 | 25000 |\n",
       "\n"
      ],
      "text/plain": [
       "      [,1] [,2] \n",
       " [1,] 173  17000\n",
       " [2,] 178  14000\n",
       " [3,] 180   9000\n",
       " [4,] 183  50000\n",
       " [5,] 182  30000\n",
       " [6,] 174  12000\n",
       " [7,] 179    900\n",
       " [8,] 179   2100\n",
       " [9,] 174   1000\n",
       "[10,] 192  25000"
      ]
     },
     "metadata": {},
     "output_type": "display_data"
    }
   ],
   "source": [
    "ホークス"
   ]
  },
  {
   "cell_type": "markdown",
   "id": "72abcb21-9d22-4353-b7b4-2bb1de9a40f2",
   "metadata": {},
   "source": [
    "## 1.6.2 外部データファイルを読み込んでみよう"
   ]
  },
  {
   "cell_type": "code",
   "execution_count": 14,
   "id": "f9e8daae-e74e-4242-863f-123196c20a2d",
   "metadata": {},
   "outputs": [],
   "source": [
    "ホークス2 <- read.csv(\"hawks.csv\")"
   ]
  },
  {
   "cell_type": "code",
   "execution_count": 15,
   "id": "36ab3007-581c-4749-b546-fbf488fecaca",
   "metadata": {},
   "outputs": [
    {
     "data": {
      "text/html": [
       "<table class=\"dataframe\">\n",
       "<caption>A data.frame: 10 × 2</caption>\n",
       "<thead>\n",
       "\t<tr><th scope=col>height</th><th scope=col>salary</th></tr>\n",
       "\t<tr><th scope=col>&lt;int&gt;</th><th scope=col>&lt;int&gt;</th></tr>\n",
       "</thead>\n",
       "<tbody>\n",
       "\t<tr><td>173</td><td>17000</td></tr>\n",
       "\t<tr><td>178</td><td>14000</td></tr>\n",
       "\t<tr><td>180</td><td> 9000</td></tr>\n",
       "\t<tr><td>183</td><td>50000</td></tr>\n",
       "\t<tr><td>182</td><td>30000</td></tr>\n",
       "\t<tr><td>174</td><td>12000</td></tr>\n",
       "\t<tr><td>179</td><td>  900</td></tr>\n",
       "\t<tr><td>179</td><td> 2100</td></tr>\n",
       "\t<tr><td>174</td><td> 1000</td></tr>\n",
       "\t<tr><td>192</td><td>25000</td></tr>\n",
       "</tbody>\n",
       "</table>\n"
      ],
      "text/latex": [
       "A data.frame: 10 × 2\n",
       "\\begin{tabular}{ll}\n",
       " height & salary\\\\\n",
       " <int> & <int>\\\\\n",
       "\\hline\n",
       "\t 173 & 17000\\\\\n",
       "\t 178 & 14000\\\\\n",
       "\t 180 &  9000\\\\\n",
       "\t 183 & 50000\\\\\n",
       "\t 182 & 30000\\\\\n",
       "\t 174 & 12000\\\\\n",
       "\t 179 &   900\\\\\n",
       "\t 179 &  2100\\\\\n",
       "\t 174 &  1000\\\\\n",
       "\t 192 & 25000\\\\\n",
       "\\end{tabular}\n"
      ],
      "text/markdown": [
       "\n",
       "A data.frame: 10 × 2\n",
       "\n",
       "| height &lt;int&gt; | salary &lt;int&gt; |\n",
       "|---|---|\n",
       "| 173 | 17000 |\n",
       "| 178 | 14000 |\n",
       "| 180 |  9000 |\n",
       "| 183 | 50000 |\n",
       "| 182 | 30000 |\n",
       "| 174 | 12000 |\n",
       "| 179 |   900 |\n",
       "| 179 |  2100 |\n",
       "| 174 |  1000 |\n",
       "| 192 | 25000 |\n",
       "\n"
      ],
      "text/plain": [
       "   height salary\n",
       "1  173    17000 \n",
       "2  178    14000 \n",
       "3  180     9000 \n",
       "4  183    50000 \n",
       "5  182    30000 \n",
       "6  174    12000 \n",
       "7  179      900 \n",
       "8  179     2100 \n",
       "9  174     1000 \n",
       "10 192    25000 "
      ]
     },
     "metadata": {},
     "output_type": "display_data"
    }
   ],
   "source": [
    "ホークス2"
   ]
  },
  {
   "cell_type": "markdown",
   "id": "d9e803e8-1fdf-45be-98c1-ae12db4b7161",
   "metadata": {},
   "source": [
    "## 1.6.3 関数を作ってみよう"
   ]
  },
  {
   "cell_type": "code",
   "execution_count": 16,
   "id": "dcf8c124-b7ed-46c3-8b30-8236d5a7b45e",
   "metadata": {},
   "outputs": [],
   "source": [
    "varp <- function(x) {\n",
    "    標本分散 <- var(x)*(length(x)-1)/length(x)\n",
    "    標本分散\n",
    "    }"
   ]
  },
  {
   "cell_type": "code",
   "execution_count": 17,
   "id": "4f49de5d-7238-4fec-bd21-eaee8a4a8ed2",
   "metadata": {},
   "outputs": [],
   "source": [
    "x <- c(10, 13, 8, 15, 8)"
   ]
  },
  {
   "cell_type": "code",
   "execution_count": 18,
   "id": "719f1ea0-5a75-47dc-9af0-5bc48dae4c2f",
   "metadata": {},
   "outputs": [
    {
     "data": {
      "text/html": [
       "<style>\n",
       ".list-inline {list-style: none; margin:0; padding: 0}\n",
       ".list-inline>li {display: inline-block}\n",
       ".list-inline>li:not(:last-child)::after {content: \"\\00b7\"; padding: 0 .5ex}\n",
       "</style>\n",
       "<ol class=list-inline><li>10</li><li>13</li><li>8</li><li>15</li><li>8</li></ol>\n"
      ],
      "text/latex": [
       "\\begin{enumerate*}\n",
       "\\item 10\n",
       "\\item 13\n",
       "\\item 8\n",
       "\\item 15\n",
       "\\item 8\n",
       "\\end{enumerate*}\n"
      ],
      "text/markdown": [
       "1. 10\n",
       "2. 13\n",
       "3. 8\n",
       "4. 15\n",
       "5. 8\n",
       "\n",
       "\n"
      ],
      "text/plain": [
       "[1] 10 13  8 15  8"
      ]
     },
     "metadata": {},
     "output_type": "display_data"
    }
   ],
   "source": [
    "x"
   ]
  },
  {
   "cell_type": "code",
   "execution_count": 19,
   "id": "14ca57db-0c7f-483c-87c2-52ccc37e624b",
   "metadata": {},
   "outputs": [
    {
     "data": {
      "text/html": [
       "9.7"
      ],
      "text/latex": [
       "9.7"
      ],
      "text/markdown": [
       "9.7"
      ],
      "text/plain": [
       "[1] 9.7"
      ]
     },
     "metadata": {},
     "output_type": "display_data"
    }
   ],
   "source": [
    "var(x) # 不偏分散"
   ]
  },
  {
   "cell_type": "code",
   "execution_count": 20,
   "id": "48647bda-0647-4c1c-a942-9cd971cdea6b",
   "metadata": {},
   "outputs": [
    {
     "data": {
      "text/html": [
       "7.76"
      ],
      "text/latex": [
       "7.76"
      ],
      "text/markdown": [
       "7.76"
      ],
      "text/plain": [
       "[1] 7.76"
      ]
     },
     "metadata": {},
     "output_type": "display_data"
    }
   ],
   "source": [
    "varp(x) # 標本分散"
   ]
  },
  {
   "cell_type": "code",
   "execution_count": 21,
   "id": "d02a610f-9b79-4d92-b235-76caa7ab321c",
   "metadata": {},
   "outputs": [],
   "source": [
    "source(\"varp.R\")"
   ]
  },
  {
   "cell_type": "code",
   "execution_count": 22,
   "id": "69252de9-3b1d-4fe1-ac4d-f333a6d11b52",
   "metadata": {},
   "outputs": [],
   "source": [
    "library(sem)"
   ]
  }
 ],
 "metadata": {
  "kernelspec": {
   "display_name": "R",
   "language": "R",
   "name": "ir"
  },
  "language_info": {
   "codemirror_mode": "r",
   "file_extension": ".r",
   "mimetype": "text/x-r-source",
   "name": "R",
   "pygments_lexer": "r",
   "version": "4.3.2"
  }
 },
 "nbformat": 4,
 "nbformat_minor": 5
}
