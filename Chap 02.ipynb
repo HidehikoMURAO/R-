{
 "cells": [
  {
   "cell_type": "markdown",
   "id": "96924fbd-db14-4797-bbdf-03ce3007144a",
   "metadata": {},
   "source": [
    "## 2.4 データの視覚的表現"
   ]
  },
  {
   "cell_type": "code",
   "execution_count": 1,
   "id": "d1199213-73c8-4c60-a8d3-1637c7276ae6",
   "metadata": {},
   "outputs": [],
   "source": [
    "Teaching_Method <- c(\"C\", \"B\", \"B\", \"A\", \"B\", \"C\", \"A\", \"D\", \"D\", \"D\", \"A\", \"A\", \"A\", \"C\", \"B\", \"D\", \"C\", \"C\", \"B\", \"D\") # c: combine"
   ]
  },
  {
   "cell_type": "code",
   "execution_count": 2,
   "id": "4183d8c6-c080-4aaa-befe-693937bdf435",
   "metadata": {},
   "outputs": [
    {
     "data": {
      "text/html": [
       "<style>\n",
       ".list-inline {list-style: none; margin:0; padding: 0}\n",
       ".list-inline>li {display: inline-block}\n",
       ".list-inline>li:not(:last-child)::after {content: \"\\00b7\"; padding: 0 .5ex}\n",
       "</style>\n",
       "<ol class=list-inline><li>'C'</li><li>'B'</li><li>'B'</li><li>'A'</li><li>'B'</li><li>'C'</li><li>'A'</li><li>'D'</li><li>'D'</li><li>'D'</li><li>'A'</li><li>'A'</li><li>'A'</li><li>'C'</li><li>'B'</li><li>'D'</li><li>'C'</li><li>'C'</li><li>'B'</li><li>'D'</li></ol>\n"
      ],
      "text/latex": [
       "\\begin{enumerate*}\n",
       "\\item 'C'\n",
       "\\item 'B'\n",
       "\\item 'B'\n",
       "\\item 'A'\n",
       "\\item 'B'\n",
       "\\item 'C'\n",
       "\\item 'A'\n",
       "\\item 'D'\n",
       "\\item 'D'\n",
       "\\item 'D'\n",
       "\\item 'A'\n",
       "\\item 'A'\n",
       "\\item 'A'\n",
       "\\item 'C'\n",
       "\\item 'B'\n",
       "\\item 'D'\n",
       "\\item 'C'\n",
       "\\item 'C'\n",
       "\\item 'B'\n",
       "\\item 'D'\n",
       "\\end{enumerate*}\n"
      ],
      "text/markdown": [
       "1. 'C'\n",
       "2. 'B'\n",
       "3. 'B'\n",
       "4. 'A'\n",
       "5. 'B'\n",
       "6. 'C'\n",
       "7. 'A'\n",
       "8. 'D'\n",
       "9. 'D'\n",
       "10. 'D'\n",
       "11. 'A'\n",
       "12. 'A'\n",
       "13. 'A'\n",
       "14. 'C'\n",
       "15. 'B'\n",
       "16. 'D'\n",
       "17. 'C'\n",
       "18. 'C'\n",
       "19. 'B'\n",
       "20. 'D'\n",
       "\n",
       "\n"
      ],
      "text/plain": [
       " [1] \"C\" \"B\" \"B\" \"A\" \"B\" \"C\" \"A\" \"D\" \"D\" \"D\" \"A\" \"A\" \"A\" \"C\" \"B\" \"D\" \"C\" \"C\" \"B\"\n",
       "[20] \"D\""
      ]
     },
     "metadata": {},
     "output_type": "display_data"
    }
   ],
   "source": [
    "Teaching_Method"
   ]
  },
  {
   "cell_type": "code",
   "execution_count": 3,
   "id": "fbcb91ec-872a-4db0-a019-1d2d41e2d5bc",
   "metadata": {},
   "outputs": [
    {
     "data": {
      "text/plain": [
       "Teaching_Method\n",
       "A B C D \n",
       "5 5 5 5 "
      ]
     },
     "metadata": {},
     "output_type": "display_data"
    }
   ],
   "source": [
    "table(Teaching_Method)"
   ]
  },
  {
   "cell_type": "markdown",
   "id": "f588bd58-e73f-4f2e-93d3-823d62e4615b",
   "metadata": {},
   "source": [
    "#### 変数名を日本語にするとグラフの描画で文字化けする..."
   ]
  },
  {
   "cell_type": "code",
   "execution_count": 4,
   "id": "d66e6a7f-2111-46df-9ffc-533a58a1d0e7",
   "metadata": {},
   "outputs": [],
   "source": [
    "Psychology_Test <- c(13, 14, 7, 12, 10, 6, 8, 15, 4, 14, 9, 6, 10, 12, 5, 12, 8, 8, 12, 15) # PT: Psychology Test"
   ]
  },
  {
   "cell_type": "code",
   "execution_count": 5,
   "id": "9016d417-c158-4f8b-a873-2c6b897b2b12",
   "metadata": {},
   "outputs": [
    {
     "data": {
      "image/png": "[encoded data removed]",
      "text/plain": [
       "Plot with title \"Histogram of Psychology_Test\""
      ]
     },
     "metadata": {
      "image/png": {
       "height": 420,
       "width": 420
      }
     },
     "output_type": "display_data"
    }
   ],
   "source": [
    "hist(Psychology_Test)"
   ]
  },
  {
   "cell_type": "markdown",
   "id": "45b905bb-fff4-44d0-b178-893bf9d9c340",
   "metadata": {},
   "source": [
    "## 2.5 平均とは"
   ]
  },
  {
   "cell_type": "code",
   "execution_count": 6,
   "id": "8051fce6-ece2-477b-beb3-052a619b2242",
   "metadata": {},
   "outputs": [
    {
     "data": {
      "text/html": [
       "54"
      ],
      "text/latex": [
       "54"
      ],
      "text/markdown": [
       "54"
      ],
      "text/plain": [
       "[1] 54"
      ]
     },
     "metadata": {},
     "output_type": "display_data"
    }
   ],
   "source": [
    "10 + 13 + 8 + 15 + 8"
   ]
  },
  {
   "cell_type": "code",
   "execution_count": 7,
   "id": "4116cda5-aa01-4717-bca5-a648f3c19eea",
   "metadata": {},
   "outputs": [
    {
     "data": {
      "text/html": [
       "64"
      ],
      "text/latex": [
       "64"
      ],
      "text/markdown": [
       "64"
      ],
      "text/plain": [
       "[1] 64"
      ]
     },
     "metadata": {},
     "output_type": "display_data"
    }
   ],
   "source": [
    "sum(10, 13, 8, 15, 18)"
   ]
  },
  {
   "cell_type": "code",
   "execution_count": 8,
   "id": "69f9dbe8-52d6-4e47-8394-365a336cfaaf",
   "metadata": {},
   "outputs": [],
   "source": [
    "Test_A <- c(10, 13, 8, 15, 8) # c: combine"
   ]
  },
  {
   "cell_type": "code",
   "execution_count": 9,
   "id": "fa0283f5-5fa5-418b-9f35-8213b6f8d93a",
   "metadata": {},
   "outputs": [
    {
     "data": {
      "text/html": [
       "<style>\n",
       ".list-inline {list-style: none; margin:0; padding: 0}\n",
       ".list-inline>li {display: inline-block}\n",
       ".list-inline>li:not(:last-child)::after {content: \"\\00b7\"; padding: 0 .5ex}\n",
       "</style>\n",
       "<ol class=list-inline><li>10</li><li>13</li><li>8</li><li>15</li><li>8</li></ol>\n"
      ],
      "text/latex": [
       "\\begin{enumerate*}\n",
       "\\item 10\n",
       "\\item 13\n",
       "\\item 8\n",
       "\\item 15\n",
       "\\item 8\n",
       "\\end{enumerate*}\n"
      ],
      "text/markdown": [
       "1. 10\n",
       "2. 13\n",
       "3. 8\n",
       "4. 15\n",
       "5. 8\n",
       "\n",
       "\n"
      ],
      "text/plain": [
       "[1] 10 13  8 15  8"
      ]
     },
     "metadata": {},
     "output_type": "display_data"
    }
   ],
   "source": [
    "Test_A"
   ]
  },
  {
   "cell_type": "code",
   "execution_count": 10,
   "id": "2481e324-daaf-4d29-87f3-d78db19b06d5",
   "metadata": {},
   "outputs": [
    {
     "data": {
      "text/html": [
       "54"
      ],
      "text/latex": [
       "54"
      ],
      "text/markdown": [
       "54"
      ],
      "text/plain": [
       "[1] 54"
      ]
     },
     "metadata": {},
     "output_type": "display_data"
    }
   ],
   "source": [
    "sum(Test_A)"
   ]
  },
  {
   "cell_type": "code",
   "execution_count": 11,
   "id": "2db48f3d-74dc-40a9-ab88-1190e65bff0f",
   "metadata": {},
   "outputs": [
    {
     "data": {
      "text/html": [
       "10.8"
      ],
      "text/latex": [
       "10.8"
      ],
      "text/markdown": [
       "10.8"
      ],
      "text/plain": [
       "[1] 10.8"
      ]
     },
     "metadata": {},
     "output_type": "display_data"
    }
   ],
   "source": [
    "sum(Test_A)/5"
   ]
  },
  {
   "cell_type": "code",
   "execution_count": 12,
   "id": "4f0c2167-4a78-4383-91b2-19c7428cd307",
   "metadata": {},
   "outputs": [
    {
     "data": {
      "text/html": [
       "10.8"
      ],
      "text/latex": [
       "10.8"
      ],
      "text/markdown": [
       "10.8"
      ],
      "text/plain": [
       "[1] 10.8"
      ]
     },
     "metadata": {},
     "output_type": "display_data"
    }
   ],
   "source": [
    "sum(Test_A)/length(Test_A)"
   ]
  },
  {
   "cell_type": "code",
   "execution_count": 13,
   "id": "9e648273-e218-4bdd-94f0-192feb661369",
   "metadata": {},
   "outputs": [
    {
     "data": {
      "text/html": [
       "10.8"
      ],
      "text/latex": [
       "10.8"
      ],
      "text/markdown": [
       "10.8"
      ],
      "text/plain": [
       "[1] 10.8"
      ]
     },
     "metadata": {},
     "output_type": "display_data"
    }
   ],
   "source": [
    "mean(Test_A)"
   ]
  },
  {
   "cell_type": "markdown",
   "id": "774beeac-03d5-4b97-83bd-b194f18ecff4",
   "metadata": {},
   "source": [
    "## 2.6 平均以外の代表値"
   ]
  },
  {
   "cell_type": "code",
   "execution_count": 14,
   "id": "253d1c40-a9cd-414e-8b1a-6b9c9f285343",
   "metadata": {},
   "outputs": [
    {
     "data": {
      "text/html": [
       "10"
      ],
      "text/latex": [
       "10"
      ],
      "text/markdown": [
       "10"
      ],
      "text/plain": [
       "[1] 10"
      ]
     },
     "metadata": {},
     "output_type": "display_data"
    }
   ],
   "source": [
    "median(Test_A)"
   ]
  },
  {
   "cell_type": "code",
   "execution_count": 15,
   "id": "1bb5b19a-0b2d-45e3-88c8-c43bf0880177",
   "metadata": {},
   "outputs": [
    {
     "data": {
      "text/plain": [
       "Test_A\n",
       " 8 10 13 15 \n",
       " 2  1  1  1 "
      ]
     },
     "metadata": {},
     "output_type": "display_data"
    }
   ],
   "source": [
    "# Rには最頻値を求める関数がないので，度数分布を求めるtable()関数を利用する\n",
    "table(Test_A)"
   ]
  },
  {
   "cell_type": "markdown",
   "id": "c800be8b-9109-4088-a04e-614d322dc9ba",
   "metadata": {},
   "source": [
    "## 2.8 分散，標準"
   ]
  },
  {
   "cell_type": "code",
   "execution_count": 16,
   "id": "5b4af91d-25c2-41c5-b823-2c724fbd1619",
   "metadata": {},
   "outputs": [
    {
     "data": {
      "text/html": [
       "10.8"
      ],
      "text/latex": [
       "10.8"
      ],
      "text/markdown": [
       "10.8"
      ],
      "text/plain": [
       "[1] 10.8"
      ]
     },
     "metadata": {},
     "output_type": "display_data"
    }
   ],
   "source": [
    "mean_Test_A <- mean(Test_A) # mean_Test_A: Test_Aの平均\n",
    "mean_Test_A"
   ]
  },
  {
   "cell_type": "code",
   "execution_count": 17,
   "id": "a96eccad-08a2-4f45-a4a7-9422ec2c6c17",
   "metadata": {},
   "outputs": [
    {
     "data": {
      "text/html": [
       "<style>\n",
       ".list-inline {list-style: none; margin:0; padding: 0}\n",
       ".list-inline>li {display: inline-block}\n",
       ".list-inline>li:not(:last-child)::after {content: \"\\00b7\"; padding: 0 .5ex}\n",
       "</style>\n",
       "<ol class=list-inline><li>-0.800000000000001</li><li>2.2</li><li>-2.8</li><li>4.2</li><li>-2.8</li></ol>\n"
      ],
      "text/latex": [
       "\\begin{enumerate*}\n",
       "\\item -0.800000000000001\n",
       "\\item 2.2\n",
       "\\item -2.8\n",
       "\\item 4.2\n",
       "\\item -2.8\n",
       "\\end{enumerate*}\n"
      ],
      "text/markdown": [
       "1. -0.800000000000001\n",
       "2. 2.2\n",
       "3. -2.8\n",
       "4. 4.2\n",
       "5. -2.8\n",
       "\n",
       "\n"
      ],
      "text/plain": [
       "[1] -0.8  2.2 -2.8  4.2 -2.8"
      ]
     },
     "metadata": {},
     "output_type": "display_data"
    }
   ],
   "source": [
    "dev_mean <- Test_A - mean_Test_A # dev_mean 平均からの偏差\n",
    "dev_mean"
   ]
  },
  {
   "cell_type": "code",
   "execution_count": 18,
   "id": "8cf2e0f0-0965-4ae2-90a4-d479c05bc96e",
   "metadata": {},
   "outputs": [
    {
     "data": {
      "text/html": [
       "<style>\n",
       ".list-inline {list-style: none; margin:0; padding: 0}\n",
       ".list-inline>li {display: inline-block}\n",
       ".list-inline>li:not(:last-child)::after {content: \"\\00b7\"; padding: 0 .5ex}\n",
       "</style>\n",
       "<ol class=list-inline><li>0.640000000000001</li><li>4.84</li><li>7.84</li><li>17.64</li><li>7.84</li></ol>\n"
      ],
      "text/latex": [
       "\\begin{enumerate*}\n",
       "\\item 0.640000000000001\n",
       "\\item 4.84\n",
       "\\item 7.84\n",
       "\\item 17.64\n",
       "\\item 7.84\n",
       "\\end{enumerate*}\n"
      ],
      "text/markdown": [
       "1. 0.640000000000001\n",
       "2. 4.84\n",
       "3. 7.84\n",
       "4. 17.64\n",
       "5. 7.84\n",
       "\n",
       "\n"
      ],
      "text/plain": [
       "[1]  0.64  4.84  7.84 17.64  7.84"
      ]
     },
     "metadata": {},
     "output_type": "display_data"
    }
   ],
   "source": [
    "sqrt_dev_mean <- dev_mean^2 # sqrt_dev_mean:平均からの偏差の二乗\n",
    "sqrt_dev_mean"
   ]
  },
  {
   "cell_type": "code",
   "execution_count": 19,
   "id": "a4a4c087-fbe9-494f-bb99-834435260252",
   "metadata": {},
   "outputs": [
    {
     "data": {
      "text/html": [
       "38.8"
      ],
      "text/latex": [
       "38.8"
      ],
      "text/markdown": [
       "38.8"
      ],
      "text/plain": [
       "[1] 38.8"
      ]
     },
     "metadata": {},
     "output_type": "display_data"
    }
   ],
   "source": [
    "sum_sqrt_dev_mean <- sum(sqrt_dev_mean) # sqrt_dev_mean: 平均からの偏差の二乗和\n",
    "sum_sqrt_dev_mean"
   ]
  },
  {
   "cell_type": "code",
   "execution_count": 20,
   "id": "99c0e842-ff8d-4a5a-a4ed-d52a6d3516af",
   "metadata": {},
   "outputs": [
    {
     "data": {
      "text/html": [
       "5"
      ],
      "text/latex": [
       "5"
      ],
      "text/markdown": [
       "5"
      ],
      "text/plain": [
       "[1] 5"
      ]
     },
     "metadata": {},
     "output_type": "display_data"
    }
   ],
   "source": [
    "N_Data <- length(Test_A) # N_Data: データ数\n",
    "N_Data"
   ]
  },
  {
   "cell_type": "code",
   "execution_count": 21,
   "id": "69a073a0-6470-459e-accc-6c749745c116",
   "metadata": {},
   "outputs": [
    {
     "data": {
      "text/html": [
       "7.76"
      ],
      "text/latex": [
       "7.76"
      ],
      "text/markdown": [
       "7.76"
      ],
      "text/plain": [
       "[1] 7.76"
      ]
     },
     "metadata": {},
     "output_type": "display_data"
    }
   ],
   "source": [
    "variance <- sum_sqrt_dev_mean/N_Data # variance: 標本分散\n",
    "variance # 標本分散"
   ]
  },
  {
   "cell_type": "code",
   "execution_count": 22,
   "id": "ce3d02aa-8927-4e2f-9b1b-6f4dc863940b",
   "metadata": {
    "scrolled": true
   },
   "outputs": [
    {
     "data": {
      "text/html": [
       "2.78567765543682"
      ],
      "text/latex": [
       "2.78567765543682"
      ],
      "text/markdown": [
       "2.78567765543682"
      ],
      "text/plain": [
       "[1] 2.785678"
      ]
     },
     "metadata": {},
     "output_type": "display_data"
    }
   ],
   "source": [
    "sqrt(variance) # 標本分散の平方根"
   ]
  },
  {
   "cell_type": "code",
   "execution_count": 23,
   "id": "96339ef0-89c4-4c26-a0ed-5194bb3e3bae",
   "metadata": {},
   "outputs": [
    {
     "data": {
      "text/html": [
       "9.7"
      ],
      "text/latex": [
       "9.7"
      ],
      "text/markdown": [
       "9.7"
      ],
      "text/plain": [
       "[1] 9.7"
      ]
     },
     "metadata": {},
     "output_type": "display_data"
    }
   ],
   "source": [
    "var(Test_A) # 不偏分散"
   ]
  },
  {
   "cell_type": "code",
   "execution_count": 24,
   "id": "9a97bf7f-c130-4673-ae8e-0a645a51b47c",
   "metadata": {},
   "outputs": [
    {
     "data": {
      "text/html": [
       "38.8"
      ],
      "text/latex": [
       "38.8"
      ],
      "text/markdown": [
       "38.8"
      ],
      "text/plain": [
       "[1] 38.8"
      ]
     },
     "metadata": {},
     "output_type": "display_data"
    }
   ],
   "source": [
    "sum(sqrt_dev_mean) # 平均からの偏差の二乗和"
   ]
  },
  {
   "cell_type": "code",
   "execution_count": 25,
   "id": "9c2e18be-08e4-4a8c-9514-825dabf286fc",
   "metadata": {},
   "outputs": [
    {
     "data": {
      "text/html": [
       "7.76"
      ],
      "text/latex": [
       "7.76"
      ],
      "text/markdown": [
       "7.76"
      ],
      "text/plain": [
       "[1] 7.76"
      ]
     },
     "metadata": {},
     "output_type": "display_data"
    }
   ],
   "source": [
    "sum(sqrt_dev_mean)/5 # 平均からの偏差の二乗和/5"
   ]
  },
  {
   "cell_type": "code",
   "execution_count": 26,
   "id": "ddd3a4b6-3d32-429f-952d-fb5cef3de383",
   "metadata": {},
   "outputs": [
    {
     "data": {
      "text/html": [
       "9.7"
      ],
      "text/latex": [
       "9.7"
      ],
      "text/markdown": [
       "9.7"
      ],
      "text/plain": [
       "[1] 9.7"
      ]
     },
     "metadata": {},
     "output_type": "display_data"
    }
   ],
   "source": [
    "sum(sqrt_dev_mean)/4 # 平均からの偏差の二乗和/4"
   ]
  },
  {
   "cell_type": "code",
   "execution_count": 27,
   "id": "24cf65bb-da62-48c9-896f-9ec3aea2942f",
   "metadata": {},
   "outputs": [
    {
     "data": {
      "text/html": [
       "9.7"
      ],
      "text/latex": [
       "9.7"
      ],
      "text/markdown": [
       "9.7"
      ],
      "text/plain": [
       "[1] 9.7"
      ]
     },
     "metadata": {},
     "output_type": "display_data"
    }
   ],
   "source": [
    "unbiased_variance <- var(Test_A) # unbiased variance: 不偏分散\n",
    "unbiased_variance"
   ]
  },
  {
   "cell_type": "code",
   "execution_count": 28,
   "id": "39620a9c-dc8e-483a-8959-ee1245a322f8",
   "metadata": {},
   "outputs": [
    {
     "data": {
      "text/html": [
       "7.76"
      ],
      "text/latex": [
       "7.76"
      ],
      "text/markdown": [
       "7.76"
      ],
      "text/plain": [
       "[1] 7.76"
      ]
     },
     "metadata": {},
     "output_type": "display_data"
    }
   ],
   "source": [
    "sample_variance <- unbiased_variance*(N_Data-1)/N_Data  # sample_variance: 標本分散\n",
    "sample_variance"
   ]
  },
  {
   "cell_type": "code",
   "execution_count": 29,
   "id": "48cce735-ec73-4bc2-a0f2-94c9a89f7982",
   "metadata": {},
   "outputs": [
    {
     "data": {
      "text/html": [
       "3.11448230047949"
      ],
      "text/latex": [
       "3.11448230047949"
      ],
      "text/markdown": [
       "3.11448230047949"
      ],
      "text/plain": [
       "[1] 3.114482"
      ]
     },
     "metadata": {},
     "output_type": "display_data"
    }
   ],
   "source": [
    "sd(Test_A) # sdで計算される値は不偏分散の平方根 ≠ 2.78567765543682"
   ]
  },
  {
   "cell_type": "code",
   "execution_count": 30,
   "id": "8c56891b-9647-431e-9efb-e6ba0f8baecf",
   "metadata": {},
   "outputs": [
    {
     "data": {
      "text/html": [
       "2.78567765543682"
      ],
      "text/latex": [
       "2.78567765543682"
      ],
      "text/markdown": [
       "2.78567765543682"
      ],
      "text/plain": [
       "[1] 2.785678"
      ]
     },
     "metadata": {},
     "output_type": "display_data"
    }
   ],
   "source": [
    "sqrt(sd(Test_A)^2*(N_Data-1)/N_Data)"
   ]
  },
  {
   "cell_type": "code",
   "execution_count": 31,
   "id": "15210913-ffd9-4087-b75e-7c2a79ce950c",
   "metadata": {},
   "outputs": [
    {
     "data": {
      "text/html": [
       "2.78567765543682"
      ],
      "text/latex": [
       "2.78567765543682"
      ],
      "text/markdown": [
       "2.78567765543682"
      ],
      "text/plain": [
       "[1] 2.785678"
      ]
     },
     "metadata": {},
     "output_type": "display_data"
    }
   ],
   "source": [
    "sqrt(sample_variance)"
   ]
  },
  {
   "cell_type": "markdown",
   "id": "29c237eb-26f9-431b-8ab7-1dafc069bba7",
   "metadata": {},
   "source": [
    "#### データの背後に母集団を想定し，母集団の値を推測する場合には不偏分散を用い，手元に全てのデータがあり，そのデータ自体がどの程度散らばっているのかを記述する場合には標本分散を使う．"
   ]
  },
  {
   "cell_type": "markdown",
   "id": "52d3a09c-cb56-4e47-b5a7-8c7c2bc60218",
   "metadata": {},
   "source": [
    "## 2.9 分散，標準偏差以外の散布度"
   ]
  },
  {
   "cell_type": "code",
   "execution_count": 32,
   "id": "3a199119-c76c-4089-9efd-037445ef4954",
   "metadata": {
    "tags": []
   },
   "outputs": [
    {
     "data": {
      "text/html": [
       "<style>\n",
       ".list-inline {list-style: none; margin:0; padding: 0}\n",
       ".list-inline>li {display: inline-block}\n",
       ".list-inline>li:not(:last-child)::after {content: \"\\00b7\"; padding: 0 .5ex}\n",
       "</style>\n",
       "<ol class=list-inline><li>10</li><li>13</li><li>8</li><li>15</li><li>8</li></ol>\n"
      ],
      "text/latex": [
       "\\begin{enumerate*}\n",
       "\\item 10\n",
       "\\item 13\n",
       "\\item 8\n",
       "\\item 15\n",
       "\\item 8\n",
       "\\end{enumerate*}\n"
      ],
      "text/markdown": [
       "1. 10\n",
       "2. 13\n",
       "3. 8\n",
       "4. 15\n",
       "5. 8\n",
       "\n",
       "\n"
      ],
      "text/plain": [
       "[1] 10 13  8 15  8"
      ]
     },
     "metadata": {},
     "output_type": "display_data"
    }
   ],
   "source": [
    "Test_A"
   ]
  },
  {
   "cell_type": "code",
   "execution_count": 33,
   "id": "b311b8ad-0fdd-4202-b6db-1eaa997e1421",
   "metadata": {
    "tags": []
   },
   "outputs": [
    {
     "data": {
      "text/html": [
       "10.8"
      ],
      "text/latex": [
       "10.8"
      ],
      "text/markdown": [
       "10.8"
      ],
      "text/plain": [
       "[1] 10.8"
      ]
     },
     "metadata": {},
     "output_type": "display_data"
    }
   ],
   "source": [
    "mean(Test_A)"
   ]
  },
  {
   "cell_type": "code",
   "execution_count": 34,
   "id": "5c1b7a17-0ac6-403a-9db4-0bf2f0c97fb9",
   "metadata": {
    "tags": []
   },
   "outputs": [
    {
     "data": {
      "text/html": [
       "<style>\n",
       ".list-inline {list-style: none; margin:0; padding: 0}\n",
       ".list-inline>li {display: inline-block}\n",
       ".list-inline>li:not(:last-child)::after {content: \"\\00b7\"; padding: 0 .5ex}\n",
       "</style>\n",
       "<ol class=list-inline><li>-0.800000000000001</li><li>2.2</li><li>-2.8</li><li>4.2</li><li>-2.8</li></ol>\n"
      ],
      "text/latex": [
       "\\begin{enumerate*}\n",
       "\\item -0.800000000000001\n",
       "\\item 2.2\n",
       "\\item -2.8\n",
       "\\item 4.2\n",
       "\\item -2.8\n",
       "\\end{enumerate*}\n"
      ],
      "text/markdown": [
       "1. -0.800000000000001\n",
       "2. 2.2\n",
       "3. -2.8\n",
       "4. 4.2\n",
       "5. -2.8\n",
       "\n",
       "\n"
      ],
      "text/plain": [
       "[1] -0.8  2.2 -2.8  4.2 -2.8"
      ]
     },
     "metadata": {},
     "output_type": "display_data"
    }
   ],
   "source": [
    "Test_A - mean(Test_A)"
   ]
  },
  {
   "cell_type": "code",
   "execution_count": 35,
   "id": "1fb799df-f580-4aab-8dbf-0af545a84932",
   "metadata": {
    "tags": []
   },
   "outputs": [
    {
     "data": {
      "text/html": [
       "<style>\n",
       ".list-inline {list-style: none; margin:0; padding: 0}\n",
       ".list-inline>li {display: inline-block}\n",
       ".list-inline>li:not(:last-child)::after {content: \"\\00b7\"; padding: 0 .5ex}\n",
       "</style>\n",
       "<ol class=list-inline><li>0.800000000000001</li><li>2.2</li><li>2.8</li><li>4.2</li><li>2.8</li></ol>\n"
      ],
      "text/latex": [
       "\\begin{enumerate*}\n",
       "\\item 0.800000000000001\n",
       "\\item 2.2\n",
       "\\item 2.8\n",
       "\\item 4.2\n",
       "\\item 2.8\n",
       "\\end{enumerate*}\n"
      ],
      "text/markdown": [
       "1. 0.800000000000001\n",
       "2. 2.2\n",
       "3. 2.8\n",
       "4. 4.2\n",
       "5. 2.8\n",
       "\n",
       "\n"
      ],
      "text/plain": [
       "[1] 0.8 2.2 2.8 4.2 2.8"
      ]
     },
     "metadata": {},
     "output_type": "display_data"
    }
   ],
   "source": [
    "abs(Test_A-mean(Test_A)) # abs: 絶対値を求める関数"
   ]
  },
  {
   "cell_type": "code",
   "execution_count": 36,
   "id": "906383c3-7668-41d5-93a3-1caec9ed3fd6",
   "metadata": {
    "tags": []
   },
   "outputs": [
    {
     "data": {
      "text/html": [
       "2.56"
      ],
      "text/latex": [
       "2.56"
      ],
      "text/markdown": [
       "2.56"
      ],
      "text/plain": [
       "[1] 2.56"
      ]
     },
     "metadata": {},
     "output_type": "display_data"
    }
   ],
   "source": [
    "mean(abs(Test_A-mean(Test_A)))"
   ]
  },
  {
   "cell_type": "code",
   "execution_count": 37,
   "id": "3b2a29c3-fee4-40de-a13b-2aae8fbe67f8",
   "metadata": {
    "tags": []
   },
   "outputs": [
    {
     "data": {
      "text/html": [
       "15"
      ],
      "text/latex": [
       "15"
      ],
      "text/markdown": [
       "15"
      ],
      "text/plain": [
       "[1] 15"
      ]
     },
     "metadata": {},
     "output_type": "display_data"
    }
   ],
   "source": [
    "max(Test_A) # max: 最大値を求める関数"
   ]
  },
  {
   "cell_type": "code",
   "execution_count": 38,
   "id": "f5359c7f-36c1-414a-a51c-4ff224e7fe03",
   "metadata": {
    "tags": []
   },
   "outputs": [
    {
     "data": {
      "text/html": [
       "8"
      ],
      "text/latex": [
       "8"
      ],
      "text/markdown": [
       "8"
      ],
      "text/plain": [
       "[1] 8"
      ]
     },
     "metadata": {},
     "output_type": "display_data"
    }
   ],
   "source": [
    "min(Test_A) # min: 最小値を求める関数"
   ]
  },
  {
   "cell_type": "code",
   "execution_count": 39,
   "id": "d985290b-a867-4d94-9a86-24f36ccd0aae",
   "metadata": {
    "tags": []
   },
   "outputs": [
    {
     "data": {
      "text/html": [
       "7"
      ],
      "text/latex": [
       "7"
      ],
      "text/markdown": [
       "7"
      ],
      "text/plain": [
       "[1] 7"
      ]
     },
     "metadata": {},
     "output_type": "display_data"
    }
   ],
   "source": [
    "max(Test_A)-min(Test_A)"
   ]
  },
  {
   "cell_type": "code",
   "execution_count": null,
   "id": "c8bddd92-2e8e-4ccc-8694-6b0c981f527d",
   "metadata": {},
   "outputs": [],
   "source": []
  }
 ],
 "metadata": {
  "kernelspec": {
   "display_name": "R",
   "language": "R",
   "name": "ir"
  },
  "language_info": {
   "codemirror_mode": "r",
   "file_extension": ".r",
   "mimetype": "text/x-r-source",
   "name": "R",
   "pygments_lexer": "r",
   "version": "4.3.2"
  }
 },
 "nbformat": 4,
 "nbformat_minor": 5
}
